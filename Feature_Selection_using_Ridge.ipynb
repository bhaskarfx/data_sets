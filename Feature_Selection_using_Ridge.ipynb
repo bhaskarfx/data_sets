{
 "cells": [
  {
   "cell_type": "code",
   "execution_count": 6,
   "metadata": {},
   "outputs": [],
   "source": [
    "import numpy as np # linear algebra\n",
    "import pandas as pd \n",
    "from collections import Counter\n",
    "from scipy import stats\n",
    "from sklearn.feature_selection import SelectFromModel"
   ]
  },
  {
   "cell_type": "code",
   "execution_count": 7,
   "metadata": {},
   "outputs": [],
   "source": [
    "url=\"https://raw.githubusercontent.com/bhaskarfx/data_sets/master/Final_FIFA_data.csv\"\n",
    "traindf = pd.read_csv(url, error_bad_lines=False, warn_bad_lines=False)\n",
    "\n",
    "y = traindf['Overall']>=87\n",
    "X = traindf.copy()\n",
    "del X['Overall']"
   ]
  },
  {
   "cell_type": "code",
   "execution_count": 8,
   "metadata": {},
   "outputs": [
    {
     "name": "stdout",
     "output_type": "stream",
     "text": [
      "18 selected features\n"
     ]
    }
   ],
   "source": [
    "feature_name = list(X.columns)\n",
    "num_feats=30\n",
    "from sklearn.linear_model import Ridge\n",
    "rr = Ridge(alpha=1) # higher the alpha value, more restriction on the coefficients; low alpha > more generalization, coefficients are barely\n",
    "# restricted and in this case linear and ridge regression resembles\n",
    "embeded_rr_selector = SelectFromModel(rr, max_features=num_feats)\n",
    "embeded_rr_selector.fit(X, y)\n",
    "\n",
    "embeded_rr_support = embeded_rr_selector.get_support()\n",
    "embeded_rr_feature = X.loc[:,embeded_rr_support].columns.tolist()\n",
    "print(str(len(embeded_rr_feature)), 'selected features')"
   ]
  },
  {
   "cell_type": "code",
   "execution_count": 9,
   "metadata": {},
   "outputs": [
    {
     "data": {
      "text/plain": [
       "['Position_GK',\n",
       " 'Position_LAM',\n",
       " 'Position_LF',\n",
       " 'Position_RAM',\n",
       " 'Position_RF',\n",
       " 'Body Type_Akinfenwa',\n",
       " 'Body Type_C. Ronaldo',\n",
       " 'Body Type_Courtois',\n",
       " 'Body Type_Lean',\n",
       " 'Body Type_Messi',\n",
       " 'Body Type_Neymar',\n",
       " 'Body Type_Normal',\n",
       " 'Body Type_PLAYER_BODY_TYPE_25',\n",
       " 'Body Type_Shaqiri',\n",
       " 'Body Type_Stocky',\n",
       " 'Nationality_Costa Rica',\n",
       " 'Nationality_Gabon',\n",
       " 'Nationality_Slovenia']"
      ]
     },
     "execution_count": 9,
     "metadata": {},
     "output_type": "execute_result"
    }
   ],
   "source": [
    "embeded_rr_feature"
   ]
  },
  {
   "cell_type": "code",
   "execution_count": null,
   "metadata": {},
   "outputs": [],
   "source": []
  },
  {
   "cell_type": "code",
   "execution_count": null,
   "metadata": {},
   "outputs": [],
   "source": []
  }
 ],
 "metadata": {
  "kernelspec": {
   "display_name": "Python 3",
   "language": "python",
   "name": "python3"
  },
  "language_info": {
   "codemirror_mode": {
    "name": "ipython",
    "version": 3
   },
   "file_extension": ".py",
   "mimetype": "text/x-python",
   "name": "python",
   "nbconvert_exporter": "python",
   "pygments_lexer": "ipython3",
   "version": "3.7.4"
  }
 },
 "nbformat": 4,
 "nbformat_minor": 2
}
